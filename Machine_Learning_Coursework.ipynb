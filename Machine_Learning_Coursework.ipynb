{
  "nbformat": 4,
  "nbformat_minor": 0,
  "metadata": {
    "colab": {
      "provenance": []
    },
    "kernelspec": {
      "name": "python3",
      "display_name": "Python 3"
    },
    "language_info": {
      "name": "python"
    }
  },
  "cells": [
    {
      "cell_type": "code",
      "execution_count": 1,
      "metadata": {
        "id": "CUzcdXkFnIu_"
      },
      "outputs": [],
      "source": [
        "import pandas as pd\n",
        "import matplotlib.pyplot as plt\n",
        "from sklearn.model_selection import train_test_split, cross_val_score\n",
        "from sklearn.naive_bayes import GaussianNB\n",
        "from sklearn.ensemble import RandomForestClassifier\n",
        "from sklearn.metrics import classification_report\n",
        "from sklearn.datasets import fetch_openml\n",
        "from sklearn.decomposition import PCA\n",
        "from scipy.stats.mstats import winsorize\n",
        "from sklearn.preprocessing import StandardScaler\n",
        "\n",
        "# Fetch Adult dataset\n",
        "adult = fetch_openml(name='adult', version=1, parser='auto')\n",
        "\n",
        "# Data (as pandas DataFrame)\n",
        "data = pd.DataFrame(adult.data, columns=adult.feature_names)\n",
        "data['income'] = adult.target\n"
      ]
    },
    {
      "cell_type": "code",
      "source": [
        "# Fill missing values with the mean for numeric columns\n",
        "data_numeric = data.select_dtypes(include='number')\n",
        "data_numeric_filled = data_numeric.fillna(data_numeric.mean())\n",
        "\n",
        "# Fill missing values with the mode for categorical columns\n",
        "data_categorical = data.select_dtypes(exclude='number')\n",
        "data_categorical_filled = data_categorical.apply(lambda x: x.fillna(x.mode()[0]))\n",
        "\n",
        "# Apply Winsorization to numeric columns\n",
        "winsor_percentile = 0.05\n",
        "for col in data_numeric_filled.columns:\n",
        "    data_numeric_filled[col] = winsorize(data_numeric_filled[col], limits=[winsor_percentile, winsor_percentile])\n",
        "\n",
        "# Concatenate winsorized numeric columns with categorical columns\n",
        "data_winsorized = pd.concat([data_numeric_filled, data_categorical_filled], axis=1)\n",
        "\n",
        "# Encode categorical variables\n",
        "data_encoded_winsorized = pd.get_dummies(data_winsorized, drop_first=True)\n",
        "\n",
        "# Split data into features and target variable\n",
        "X = data_encoded_winsorized.drop('income_>50K', axis=1)\n",
        "y = data_encoded_winsorized['income_>50K']\n",
        "\n"
      ],
      "metadata": {
        "id": "pHINZHOcnW7P"
      },
      "execution_count": 2,
      "outputs": []
    },
    {
      "cell_type": "code",
      "source": [
        "# Standardize the features\n",
        "scaler = StandardScaler()\n",
        "X_scaled = scaler.fit_transform(X)\n",
        "\n",
        "# Perform PCA\n",
        "pca = PCA(n_components=0.95)  # Keep components explaining 95% of the variance\n",
        "X_pca = pca.fit_transform(X_scaled)\n",
        "\n",
        "# Split the dataset into training and testing sets\n",
        "X_train, X_test, y_train, y_test = train_test_split(X_pca, y, test_size=0.2, random_state=42)\n",
        "\n",
        "# Model Training and Evaluation - Naïve Bayes\n",
        "nb_model = GaussianNB()\n",
        "nb_model.fit(X_train, y_train)\n",
        "\n",
        "# Make predictions\n",
        "nb_pred = nb_model.predict(X_test)"
      ],
      "metadata": {
        "id": "4WIVNYZkndXu"
      },
      "execution_count": 3,
      "outputs": []
    },
    {
      "cell_type": "code",
      "source": [
        "# Evaluate the model\n",
        "nb_report = classification_report(y_test, nb_pred)\n",
        "print(\"Naïve Bayes Classifier Performance:\")\n",
        "print(nb_report)"
      ],
      "metadata": {
        "colab": {
          "base_uri": "https://localhost:8080/"
        },
        "id": "8nNleF7UngUg",
        "outputId": "929e26d5-20c8-4f9e-b684-30ea97f3f300"
      },
      "execution_count": 4,
      "outputs": [
        {
          "output_type": "stream",
          "name": "stdout",
          "text": [
            "Naïve Bayes Classifier Performance:\n",
            "              precision    recall  f1-score   support\n",
            "\n",
            "           0       0.91      0.81      0.86      7414\n",
            "           1       0.56      0.75      0.64      2355\n",
            "\n",
            "    accuracy                           0.80      9769\n",
            "   macro avg       0.74      0.78      0.75      9769\n",
            "weighted avg       0.83      0.80      0.81      9769\n",
            "\n"
          ]
        }
      ]
    },
    {
      "cell_type": "code",
      "source": [
        "# Model Training and Evaluation - Random Forest Classification\n",
        "rf_model = RandomForestClassifier(random_state=42)\n",
        "rf_model.fit(X_train, y_train)\n",
        "\n",
        "# Make predictions\n",
        "rf_pred = rf_model.predict(X_test)\n",
        "\n",
        "# Evaluate the model\n",
        "rf_report = classification_report(y_test, rf_pred)\n",
        "print(\"\\nRandom Forest Classifier Performance:\")\n",
        "print(rf_report)"
      ],
      "metadata": {
        "colab": {
          "base_uri": "https://localhost:8080/"
        },
        "id": "Op0lxK0Qnj8I",
        "outputId": "3563f523-28ca-4ae0-b3b6-ce1f5f4b9cd1"
      },
      "execution_count": 5,
      "outputs": [
        {
          "output_type": "stream",
          "name": "stdout",
          "text": [
            "\n",
            "Random Forest Classifier Performance:\n",
            "              precision    recall  f1-score   support\n",
            "\n",
            "           0       0.86      0.91      0.89      7414\n",
            "           1       0.67      0.55      0.60      2355\n",
            "\n",
            "    accuracy                           0.83      9769\n",
            "   macro avg       0.77      0.73      0.74      9769\n",
            "weighted avg       0.82      0.83      0.82      9769\n",
            "\n"
          ]
        }
      ]
    },
    {
      "cell_type": "code",
      "source": [
        "# Perform cross-validation (Naive Bayes)\n",
        "nb_cv_scores_accuracy = cross_val_score(nb_model, X_train, y_train, cv=5, scoring='accuracy')\n",
        "\n",
        "# Print cross-validation results\n",
        "print(\"\\nNaïve Bayes Classifier Cross-Validation Accuracy Scores:\")\n",
        "print(nb_cv_scores_accuracy)\n",
        "print(\"Mean Accuracy:\", nb_cv_scores_accuracy.mean())\n"
      ],
      "metadata": {
        "colab": {
          "base_uri": "https://localhost:8080/"
        },
        "id": "rPGwW45DpJ7H",
        "outputId": "e72cf72c-5495-43e0-94cf-94f7fdbde0cf"
      },
      "execution_count": 8,
      "outputs": [
        {
          "output_type": "stream",
          "name": "stdout",
          "text": [
            "\n",
            "Naïve Bayes Classifier Cross-Validation Accuracy Scores:\n",
            "[0.79769674 0.80729367 0.80972489 0.80419759 0.76106987]\n",
            "Mean Accuracy: 0.7959965519505732\n"
          ]
        }
      ]
    },
    {
      "cell_type": "code",
      "source": [
        "# Perform cross-validation (Random Forest)\n",
        "rf_cv_scores_accuracy = cross_val_score(rf_model, X_train, y_train, cv=5, scoring='accuracy')\n",
        "\n",
        "print(\"\\nRandom Forest Classifier Cross-Validation Accuracy Scores:\")\n",
        "print(rf_cv_scores_accuracy)\n",
        "print(\"Mean Accuracy:\", rf_cv_scores_accuracy.mean())"
      ],
      "metadata": {
        "colab": {
          "base_uri": "https://localhost:8080/"
        },
        "id": "q9ErvPRTp4_x",
        "outputId": "210881a3-dcde-4ff5-82c0-4714b60482aa"
      },
      "execution_count": 11,
      "outputs": [
        {
          "output_type": "stream",
          "name": "stdout",
          "text": [
            "\n",
            "Random Forest Classifier Cross-Validation Accuracy Scores:\n",
            "[0.83352527 0.83544466 0.82815099 0.82889685 0.83081648]\n",
            "Mean Accuracy: 0.8313668512689709\n"
          ]
        }
      ]
    }
  ]
}